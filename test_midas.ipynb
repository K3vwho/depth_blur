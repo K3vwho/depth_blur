{
 "cells": [
  {
   "cell_type": "code",
   "execution_count": 5,
   "metadata": {},
   "outputs": [],
   "source": [
    "import cv2\n",
    "import torch\n",
    "import numpy as np\n",
    "from PIL import Image\n"
   ]
  },
  {
   "cell_type": "code",
   "execution_count": 6,
   "metadata": {},
   "outputs": [
    {
     "name": "stderr",
     "output_type": "stream",
     "text": [
      "Using cache found in /Users/kevinstoesser/.cache/torch/hub/intel-isl_MiDaS_master\n"
     ]
    },
    {
     "name": "stdout",
     "output_type": "stream",
     "text": [
      "Loading weights:  None\n"
     ]
    },
    {
     "name": "stderr",
     "output_type": "stream",
     "text": [
      "Using cache found in /Users/kevinstoesser/.cache/torch/hub/facebookresearch_WSL-Images_main\n",
      "Using cache found in /Users/kevinstoesser/.cache/torch/hub/intel-isl_MiDaS_master\n"
     ]
    },
    {
     "name": "stdout",
     "output_type": "stream",
     "text": [
      "Loading weights:  None\n"
     ]
    },
    {
     "name": "stderr",
     "output_type": "stream",
     "text": [
      "Using cache found in /Users/kevinstoesser/.cache/torch/hub/facebookresearch_WSL-Images_main\n",
      "Using cache found in /Users/kevinstoesser/.cache/torch/hub/intel-isl_MiDaS_master\n"
     ]
    }
   ],
   "source": [
    "midas = torch.hub.load(\"intel-isl/MiDaS\", \"MiDaS\")\n",
    "\n",
    "use_large_model = True\n",
    "\n",
    "if use_large_model:\n",
    "    midas = torch.hub.load(\"intel-isl/MiDaS\", \"MiDaS\")\n",
    "else:\n",
    "    midas = torch.hub.load(\"intel-isl/MiDaS\", \"MiDaS_small\")\n",
    "\n",
    "device = \"cpu\"\n",
    "midas.to(device)\n",
    "\n",
    "midas_transforms = torch.hub.load(\"intel-isl/MiDaS\", \"transforms\")\n",
    "\n",
    "if use_large_model:\n",
    "    transform = midas_transforms.default_transform\n",
    "else:\n",
    "    transform = midas_transforms.small_transform\n"
   ]
  },
  {
   "cell_type": "code",
   "execution_count": 7,
   "metadata": {},
   "outputs": [],
   "source": [
    "def depth(img):\n",
    "    cv_image = np.array(img)\n",
    "    img = cv2.cvtColor(cv_image, cv2.COLOR_BGR2RGB)\n",
    "\n",
    "    input_batch = transform(img).to(device)\n",
    "    with torch.no_grad():\n",
    "        prediction = midas(input_batch)\n",
    "\n",
    "        prediction = torch.nn.functional.interpolate(\n",
    "            prediction.unsqueeze(1),\n",
    "            size=img.shape[:2],\n",
    "            mode=\"bicubic\",\n",
    "            align_corners=False,\n",
    "        ).squeeze()\n",
    "\n",
    "    output = prediction.cpu().numpy()\n",
    "    formatted = (output * 255 / np.max(output)).astype('uint8')\n",
    "    img = Image.fromarray(formatted)\n",
    "    return img\n"
   ]
  },
  {
   "cell_type": "code",
   "execution_count": 12,
   "metadata": {},
   "outputs": [
    {
     "name": "stdout",
     "output_type": "stream",
     "text": [
      "[[135 135 135 ... 118 118 118]\n",
      " [135 135 135 ... 118 118 118]\n",
      " [135 135 135 ... 118 118 118]\n",
      " ...\n",
      " [207 207 207 ... 255 254 254]\n",
      " [207 207 207 ... 254 254 254]\n",
      " [207 207 207 ... 254 254 254]]\n"
     ]
    }
   ],
   "source": [
    "test_img = Image.open('/Users/kevinstoesser/Pictures/Background/DSCF1321.jpg')\n",
    "\n",
    "test_depth = depth(test_img)\n",
    "test_depth.show()\n",
    "test_depth = np.array(test_depth)\n",
    "print(test_depth)"
   ]
  },
  {
   "cell_type": "code",
   "execution_count": 13,
   "metadata": {},
   "outputs": [
    {
     "ename": "KeyboardInterrupt",
     "evalue": "",
     "output_type": "error",
     "traceback": [
      "\u001b[0;31m---------------------------------------------------------------------------\u001b[0m",
      "\u001b[0;31mKeyboardInterrupt\u001b[0m                         Traceback (most recent call last)",
      "\u001b[1;32m/Users/kevinstoesser/Documents/Codeprojekte/depth_blur/test_midas.ipynb Zelle 5\u001b[0m in \u001b[0;36m<cell line: 16>\u001b[0;34m()\u001b[0m\n\u001b[1;32m     <a href='vscode-notebook-cell:/Users/kevinstoesser/Documents/Codeprojekte/depth_blur/test_midas.ipynb#W4sZmlsZQ%3D%3D?line=30'>31</a>\u001b[0m \u001b[39m# Apply Gaussian blur to the current pixel with the calculated kernel size\u001b[39;00m\n\u001b[1;32m     <a href='vscode-notebook-cell:/Users/kevinstoesser/Documents/Codeprojekte/depth_blur/test_midas.ipynb#W4sZmlsZQ%3D%3D?line=31'>32</a>\u001b[0m \u001b[39mif\u001b[39;00m kernel_size \u001b[39m>\u001b[39m \u001b[39m0\u001b[39m:\n\u001b[0;32m---> <a href='vscode-notebook-cell:/Users/kevinstoesser/Documents/Codeprojekte/depth_blur/test_midas.ipynb#W4sZmlsZQ%3D%3D?line=32'>33</a>\u001b[0m     output[i, j] \u001b[39m=\u001b[39m cv2\u001b[39m.\u001b[39;49mGaussianBlur(\n\u001b[1;32m     <a href='vscode-notebook-cell:/Users/kevinstoesser/Documents/Codeprojekte/depth_blur/test_midas.ipynb#W4sZmlsZQ%3D%3D?line=33'>34</a>\u001b[0m         image[i, j], (kernel_size, kernel_size), \u001b[39m0\u001b[39;49m)[\u001b[39m0\u001b[39m][\u001b[39m0\u001b[39m]\n\u001b[1;32m     <a href='vscode-notebook-cell:/Users/kevinstoesser/Documents/Codeprojekte/depth_blur/test_midas.ipynb#W4sZmlsZQ%3D%3D?line=34'>35</a>\u001b[0m \u001b[39melse\u001b[39;00m:\n\u001b[1;32m     <a href='vscode-notebook-cell:/Users/kevinstoesser/Documents/Codeprojekte/depth_blur/test_midas.ipynb#W4sZmlsZQ%3D%3D?line=35'>36</a>\u001b[0m     output[i, j] \u001b[39m=\u001b[39m image[i, j]\n",
      "\u001b[0;31mKeyboardInterrupt\u001b[0m: "
     ]
    }
   ],
   "source": [
    "# Load the grayscale image and depth map\n",
    "image = cv2.imread('/Users/kevinstoesser/Pictures/Background/DSCF1321.jpg')\n",
    "depth_map = test_depth\n",
    "\n",
    "# Normalize the depth map so that it is in the range [0, 1]\n",
    "depth_map = depth_map/ 255.0\n",
    "\n",
    "# Set the depth at which no blur should be applied, and the range of depths over which the blur strength increases\n",
    "no_blur_depth = 0.5\n",
    "blur_range = 0.5\n",
    "\n",
    "# Create an empty output image with the same size as the input image\n",
    "output = np.zeros_like(image)\n",
    "\n",
    "# Loop over all pixels in the image\n",
    "for i in range(image.shape[0]):\n",
    "    for j in range(image.shape[1]):\n",
    "        # Get the depth value for the current pixel\n",
    "        depth = depth_map[i, j]\n",
    "\n",
    "        # Calculate the kernel size for the Gaussian blur based on the depth value\n",
    "        if depth > no_blur_depth + blur_range:\n",
    "            kernel_size = 5\n",
    "        elif depth > no_blur_depth:\n",
    "            kernel_size = 5 + int((depth - no_blur_depth) / blur_range * 20)\n",
    "        else:\n",
    "            kernel_size = 0\n",
    "        if kernel_size % 2 == 0:\n",
    "            kernel_size += 1\n",
    "\n",
    "        # Apply Gaussian blur to the current pixel with the calculated kernel size\n",
    "        if kernel_size > 0:\n",
    "            output[i, j] = cv2.GaussianBlur(\n",
    "                image[i, j], (kernel_size, kernel_size), 0)[0][0]\n",
    "        else:\n",
    "            output[i, j] = image[i, j]\n",
    "\n",
    "# Save the output image\n",
    "cv2.imwrite('output.jpg', output)\n"
   ]
  }
 ],
 "metadata": {
  "kernelspec": {
   "display_name": "torch-gpu",
   "language": "python",
   "name": "python3"
  },
  "language_info": {
   "codemirror_mode": {
    "name": "ipython",
    "version": 3
   },
   "file_extension": ".py",
   "mimetype": "text/x-python",
   "name": "python",
   "nbconvert_exporter": "python",
   "pygments_lexer": "ipython3",
   "version": "3.8.15 (default, Nov 24 2022, 09:04:07) \n[Clang 14.0.6 ]"
  },
  "orig_nbformat": 4,
  "vscode": {
   "interpreter": {
    "hash": "e4bc181c76fe971e46d1f70f95b9f723f48bcf87efd6d67cd80347a516a8ef6b"
   }
  }
 },
 "nbformat": 4,
 "nbformat_minor": 2
}
